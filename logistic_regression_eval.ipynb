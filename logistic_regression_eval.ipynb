{
 "cells": [
  {
   "cell_type": "code",
   "execution_count": 2,
   "metadata": {},
   "outputs": [],
   "source": [
    "import pandas as pd\n",
    "import statsmodels.api as sm"
   ]
  },
  {
   "cell_type": "code",
   "execution_count": 6,
   "metadata": {},
   "outputs": [
    {
     "name": "stdout",
     "output_type": "stream",
     "text": [
      "Optimization terminated successfully.\n",
      "         Current function value: 0.502609\n",
      "         Iterations 12\n",
      "                           Logit Regression Results                           \n",
      "==============================================================================\n",
      "Dep. Variable:               Response   No. Observations:               995000\n",
      "Model:                          Logit   Df Residuals:                   994997\n",
      "Method:                           MLE   Df Model:                            2\n",
      "Date:                Mon, 05 Feb 2024   Pseudo R-squ.:                 0.04045\n",
      "Time:                        11:13:18   Log-Likelihood:            -5.0010e+05\n",
      "converged:                       True   LL-Null:                   -5.2118e+05\n",
      "Covariance Type:            nonrobust   LLR p-value:                     0.000\n",
      "================================================================================\n",
      "                   coef    std err          z      P>|z|      [0.025      0.975]\n",
      "--------------------------------------------------------------------------------\n",
      "const           -1.3498      0.002   -540.256      0.000      -1.355      -1.345\n",
      "Slight Cough     3.9658      0.045     87.169      0.000       3.877       4.055\n",
      "Fever            8.9034      0.500     17.802      0.000       7.923       9.884\n",
      "================================================================================\n",
      "\n",
      "--------------------------------------------------\n",
      "\n"
     ]
    }
   ],
   "source": [
    "file_name = f\"Full Logistic Regression.csv\"\n",
    "\n",
    "df = pd.read_csv(file_name)\n",
    "df.rename(columns={'You feel normal.':'Normal','You have a cough and a fever.':'Fever','You have a slight cough.':'Slight Cough'},inplace=True)\n",
    "X = df[['Slight Cough','Fever']]  # Independent variable\n",
    "y = df['Response']  # Dependent variable\n",
    "\n",
    "# Add a constant to the independent variable matrix\n",
    "X = sm.add_constant(X)\n",
    "\n",
    "# Create and fit the logistic regression model\n",
    "model = sm.Logit(y, X)\n",
    "result = model.fit()\n",
    "\n",
    "# Print the summary of the logistic regression model\n",
    "print(result.summary())\n",
    "print(\"\\n\" + \"-\"*50 + \"\\n\")"
   ]
  },
  {
   "cell_type": "code",
   "execution_count": 7,
   "metadata": {},
   "outputs": [
    {
     "name": "stdout",
     "output_type": "stream",
     "text": [
      "Optimization terminated successfully.\n",
      "         Current function value: 0.471950\n",
      "         Iterations 12\n",
      "                           Logit Regression Results                           \n",
      "==============================================================================\n",
      "Dep. Variable:               Response   No. Observations:               995000\n",
      "Model:                          Logit   Df Residuals:                   994996\n",
      "Method:                           MLE   Df Model:                            3\n",
      "Date:                Mon, 05 Feb 2024   Pseudo R-squ.:                 0.09898\n",
      "Time:                        11:14:20   Log-Likelihood:            -4.6959e+05\n",
      "converged:                       True   LL-Null:                   -5.2118e+05\n",
      "Covariance Type:            nonrobust   LLR p-value:                     0.000\n",
      "===================================================================================\n",
      "                      coef    std err          z      P>|z|      [0.025      0.975]\n",
      "-----------------------------------------------------------------------------------\n",
      "const              -1.9311      0.004   -519.772      0.000      -1.938      -1.924\n",
      "Slight Cough        3.7739      0.046     82.118      0.000       3.684       3.864\n",
      "Fever               8.6443      0.500     17.282      0.000       7.664       9.625\n",
      "Societal Health   133.2199      0.559    238.277      0.000     132.124     134.316\n",
      "===================================================================================\n",
      "\n",
      "--------------------------------------------------\n",
      "\n"
     ]
    }
   ],
   "source": [
    "file_name = f\"Full Logistic Regression.csv\"\n",
    "\n",
    "df = pd.read_csv(file_name)\n",
    "df.rename(columns={'You feel normal.':'Normal','You have a cough and a fever.':'Fever','You have a slight cough.':'Slight Cough', 'Daily New Cases Day 4':'Societal Health'},inplace=True)\n",
    "X = df[['Slight Cough','Fever','Societal Health']]  # Independent variable\n",
    "y = df['Response']  # Dependent variable\n",
    "\n",
    "# Add a constant to the independent variable matrix\n",
    "X = sm.add_constant(X)\n",
    "\n",
    "# Create and fit the logistic regression model\n",
    "model = sm.Logit(y, X)\n",
    "result = model.fit()\n",
    "\n",
    "# Print the summary of the logistic regression model\n",
    "print(result.summary())\n",
    "print(\"\\n\" + \"-\"*50 + \"\\n\")"
   ]
  },
  {
   "cell_type": "code",
   "execution_count": 9,
   "metadata": {},
   "outputs": [
    {
     "name": "stdout",
     "output_type": "stream",
     "text": [
      "Warning: Maximum number of iterations has been exceeded.\n",
      "         Current function value: 0.468455\n",
      "         Iterations: 35\n"
     ]
    },
    {
     "name": "stderr",
     "output_type": "stream",
     "text": [
      "C:\\Users\\Ross\\AppData\\Local\\Packages\\PythonSoftwareFoundation.Python.3.11_qbz5n2kfra8p0\\LocalCache\\local-packages\\Python311\\site-packages\\statsmodels\\base\\model.py:607: ConvergenceWarning: Maximum Likelihood optimization failed to converge. Check mle_retvals\n",
      "  warnings.warn(\"Maximum Likelihood optimization failed to \"\n"
     ]
    },
    {
     "name": "stdout",
     "output_type": "stream",
     "text": [
      "                           Logit Regression Results                           \n",
      "==============================================================================\n",
      "Dep. Variable:               Response   No. Observations:               995000\n",
      "Model:                          Logit   Df Residuals:                   994995\n",
      "Method:                           MLE   Df Model:                            4\n",
      "Date:                Mon, 05 Feb 2024   Pseudo R-squ.:                  0.1057\n",
      "Time:                        11:22:55   Log-Likelihood:            -4.6611e+05\n",
      "converged:                      False   LL-Null:                   -5.2118e+05\n",
      "Covariance Type:            nonrobust   LLR p-value:                     0.000\n",
      "====================================================================================\n",
      "                       coef    std err          z      P>|z|      [0.025      0.975]\n",
      "------------------------------------------------------------------------------------\n",
      "const               -2.1360      0.005   -465.754      0.000      -2.145      -2.127\n",
      "Slight Cough         3.7554      0.046     81.445      0.000       3.665       3.846\n",
      "Fever                8.6170      0.500     17.227      0.000       7.637       9.597\n",
      "Societal Health    225.0306      1.238    181.817      0.000     222.605     227.456\n",
      "Societal Health² -5258.5771     61.583    -85.390      0.000   -5379.278   -5137.876\n",
      "====================================================================================\n",
      "\n",
      "--------------------------------------------------\n",
      "\n"
     ]
    }
   ],
   "source": [
    "file_name = f\"Full Logistic Regression.csv\"\n",
    "\n",
    "df = pd.read_csv(file_name)\n",
    "df.rename(columns={'You feel normal.':'Normal','You have a cough and a fever.':'Fever','You have a slight cough.':'Slight Cough', 'Daily New Cases Day 4':'Societal Health'},inplace=True)\n",
    "\n",
    "df['Societal Health²'] = df['Societal Health'] ** 2\n",
    "\n",
    "X = df[['Slight Cough','Fever','Societal Health','Societal Health²']]  # Independent variable\n",
    "y = df['Response']  # Dependent variable\n",
    "\n",
    "# Add a constant to the independent variable matrix\n",
    "X = sm.add_constant(X)\n",
    "\n",
    "# Create and fit the logistic regression model\n",
    "model = sm.Logit(y, X)\n",
    "result = model.fit()\n",
    "\n",
    "# Print the summary of the logistic regression model\n",
    "print(result.summary())\n",
    "print(\"\\n\" + \"-\"*50 + \"\\n\")"
   ]
  },
  {
   "cell_type": "code",
   "execution_count": 14,
   "metadata": {},
   "outputs": [
    {
     "name": "stdout",
     "output_type": "stream",
     "text": [
      "Warning: Maximum number of iterations has been exceeded.\n",
      "         Current function value: 0.376977\n",
      "         Iterations: 35\n"
     ]
    },
    {
     "name": "stderr",
     "output_type": "stream",
     "text": [
      "C:\\Users\\Ross\\AppData\\Local\\Packages\\PythonSoftwareFoundation.Python.3.11_qbz5n2kfra8p0\\LocalCache\\local-packages\\Python311\\site-packages\\statsmodels\\base\\model.py:607: ConvergenceWarning: Maximum Likelihood optimization failed to converge. Check mle_retvals\n",
      "  warnings.warn(\"Maximum Likelihood optimization failed to \"\n"
     ]
    },
    {
     "name": "stdout",
     "output_type": "stream",
     "text": [
      "                           Logit Regression Results                           \n",
      "==============================================================================\n",
      "Dep. Variable:               Response   No. Observations:               995000\n",
      "Model:                          Logit   Df Residuals:                   994988\n",
      "Method:                           MLE   Df Model:                           11\n",
      "Date:                Mon, 05 Feb 2024   Pseudo R-squ.:                  0.2803\n",
      "Time:                        11:38:59   Log-Likelihood:            -3.7509e+05\n",
      "converged:                      False   LL-Null:                   -5.2118e+05\n",
      "Covariance Type:            nonrobust   LLR p-value:                     0.000\n",
      "==========================================================================================\n",
      "                             coef    std err          z      P>|z|      [0.025      0.975]\n",
      "------------------------------------------------------------------------------------------\n",
      "const                     -2.5835      0.013   -206.605      0.000      -2.608      -2.559\n",
      "Slight Cough               4.9620      0.049    100.480      0.000       4.865       5.059\n",
      "Fever                      9.9861      0.501     19.945      0.000       9.005      10.967\n",
      "Societal Health          281.5877      1.427    197.381      0.000     278.792     284.384\n",
      "Societal Health²       -6406.8074     70.469    -90.916      0.000   -6544.925   -6268.690\n",
      "Extraversion              -0.5997      0.006   -101.502      0.000      -0.611      -0.588\n",
      "Agreeableness             -1.2035      0.006   -196.886      0.000      -1.215      -1.192\n",
      "Conscientiousness         -0.2519      0.006    -43.163      0.000      -0.263      -0.240\n",
      "Neuroticism               -0.7728      0.006   -129.941      0.000      -0.784      -0.761\n",
      "Openness to Experience    -1.5488      0.006   -243.717      0.000      -1.561      -1.536\n",
      "Age                        0.0507      0.000    223.797      0.000       0.050       0.051\n",
      "Gender                    -0.1200      0.006    -20.605      0.000      -0.131      -0.109\n",
      "==========================================================================================\n",
      "\n",
      "--------------------------------------------------\n",
      "\n"
     ]
    }
   ],
   "source": [
    "file_name = f\"Full Logistic Regression.csv\"\n",
    "\n",
    "df = pd.read_csv(file_name)\n",
    "df.rename(columns={'You feel normal.':'Normal','You have a cough and a fever.':'Fever','You have a slight cough.':'Slight Cough', 'Daily New Cases Day 4':'Societal Health',\\\n",
    "                'intellect_score':'Openness to Experience','agreeableness_score':'Agreeableness','conscientiousness_score':'Conscientiousness','emotional_stability_score':'Neuroticism',\\\n",
    "                    'surgency_score':'Extraversion','age':'Age','gender':'Gender'},inplace=True)\n",
    "\n",
    "df['Societal Health²'] = df['Societal Health'] ** 2\n",
    "\n",
    "X = df[['Slight Cough','Fever','Societal Health','Societal Health²','Extraversion','Agreeableness','Conscientiousness','Neuroticism','Openness to Experience','Age','Gender']]  # Independent variable\n",
    "y = df['Response']  # Dependent variable\n",
    "\n",
    "# Add a constant to the independent variable matrix\n",
    "X = sm.add_constant(X)\n",
    "\n",
    "# Create and fit the logistic regression model\n",
    "model = sm.Logit(y, X)\n",
    "result = model.fit()\n",
    "\n",
    "# Print the summary of the logistic regression model\n",
    "print(result.summary())\n",
    "print(\"\\n\" + \"-\"*50 + \"\\n\")"
   ]
  },
  {
   "cell_type": "code",
   "execution_count": 15,
   "metadata": {},
   "outputs": [
    {
     "data": {
      "image/png": "[encoded data removed]",
      "text/plain": [
       "<Figure size 1000x400 with 2 Axes>"
      ]
     },
     "metadata": {},
     "output_type": "display_data"
    }
   ],
   "source": [
    "file_name = f\"Full Logistic Regression.csv\"\n",
    "\n",
    "df = pd.read_csv(file_name)\n",
    "df.rename(columns={'You feel normal.':'Normal','You have a cough and a fever.':'Fever','You have a slight cough.':'Slight Cough', 'Daily New Cases Day 4':'Societal Health',\\\n",
    "                'intellect_score':'Openness to Experience','agreeableness_score':'Agreeableness','conscientiousness_score':'Conscientiousness','emotional_stability_score':'Neuroticism',\\\n",
    "                    'surgency_score':'Extraversion','age':'Age','gender':'Gender'},inplace=True)\n",
    "\n",
    "df['Societal Health²'] = df['Societal Health'] ** 2\n",
    "\n",
    "import matplotlib.pyplot as plt\n",
    "\n",
    "# Assuming 'df' is your DataFrame and it already includes 'Societal Health²' column\n",
    "\n",
    "# Plotting the histogram for 'Societal Health'\n",
    "plt.figure(figsize=(10, 4))\n",
    "plt.subplot(1, 2, 1)  # 1 row, 2 columns, 1st subplot\n",
    "plt.hist(df['Societal Health'], bins=20, alpha=0.7, label='Societal Health')\n",
    "plt.xlabel('Societal Health')\n",
    "plt.ylabel('Frequency')\n",
    "plt.title('Histogram of Societal Health')\n",
    "plt.legend()\n",
    "\n",
    "# Plotting the histogram for 'Societal Health²'\n",
    "plt.subplot(1, 2, 2)  # 1 row, 2 columns, 2nd subplot\n",
    "plt.hist(df['Societal Health²'], bins=20, alpha=0.7, color='orange', label='Societal Health²')\n",
    "plt.xlabel('Societal Health²')\n",
    "plt.ylabel('Frequency')\n",
    "plt.title('Histogram of Societal Health²')\n",
    "plt.legend()\n",
    "\n",
    "plt.tight_layout()\n",
    "plt.show()\n"
   ]
  }
 ],
 "metadata": {
  "kernelspec": {
   "display_name": "Python 3",
   "language": "python",
   "name": "python3"
  },
  "language_info": {
   "codemirror_mode": {
    "name": "ipython",
    "version": 3
   },
   "file_extension": ".py",
   "mimetype": "text/x-python",
   "name": "python",
   "nbconvert_exporter": "python",
   "pygments_lexer": "ipython3",
   "version": "3.11.9"
  }
 },
 "nbformat": 4,
 "nbformat_minor": 2
}
